{
 "cells": [
  {
   "cell_type": "code",
   "execution_count": null,
   "id": "40c0aea8",
   "metadata": {},
   "outputs": [],
   "source": [
    "# Import \n",
    "\n",
    "import oxrse_unit_conv"
   ]
  },
  {
   "cell_type": "code",
   "execution_count": null,
   "id": "aafb4ebd",
   "metadata": {},
   "outputs": [
    {
     "name": "stdout",
     "output_type": "stream",
     "text": [
      "42km in mile = 26.097590073968025\n"
     ]
    }
   ],
   "source": [
    "n = 42\n",
    "unit_in = 'km'\n",
    "unit_out = 'mile'\n",
    "print(f\"{n}{unit_in} in {unit_out} = {oxrse_unit_conv.convert(n, unit_in, unit_out)}\")"
   ]
  }
 ],
 "metadata": {
  "kernelspec": {
   "display_name": "venv",
   "language": "python",
   "name": "python3"
  },
  "language_info": {
   "codemirror_mode": {
    "name": "ipython",
    "version": 3
   },
   "file_extension": ".py",
   "mimetype": "text/x-python",
   "name": "python",
   "nbconvert_exporter": "python",
   "pygments_lexer": "ipython3",
   "version": "3.12.3"
  }
 },
 "nbformat": 4,
 "nbformat_minor": 5
}
